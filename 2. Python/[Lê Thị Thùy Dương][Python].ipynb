{
 "cells": [
  {
   "cell_type": "code",
   "execution_count": 1,
   "id": "4d501ff2",
   "metadata": {},
   "outputs": [],
   "source": [
    "import pandas as pd\n",
    "import numpy as np\n",
    "import matplotlib.pyplot as plt\n",
    "import seaborn as sns\n",
    "import warnings\n",
    "import itertools\n",
    "import statsmodels.api as sm"
   ]
  },
  {
   "cell_type": "code",
   "execution_count": 2,
   "id": "41c90544",
   "metadata": {},
   "outputs": [
    {
     "name": "stdout",
     "output_type": "stream",
     "text": [
      "        version                    user_pseudo_id        country  \\\n",
      "0      6.16.179                       5.90622E+31    Philippines   \n",
      "1      6.16.179  000012d925a9c63a175b9da827bfc044          India   \n",
      "2      6.16.179  0002edb96b20adaf06d3d8b216d62041         Brazil   \n",
      "3      6.16.179  0002edb96b20adaf06d3d8b216d62041         Brazil   \n",
      "4      6.16.179  0002edb96b20adaf06d3d8b216d62041         Brazil   \n",
      "...         ...                               ...            ...   \n",
      "49995  6.16.181  fffd97d4de9a5bda58ea77be7e3f7a67  United States   \n",
      "49996  6.16.181  fffd97d4de9a5bda58ea77be7e3f7a67  United States   \n",
      "49997  6.16.179  fffea183cd8cbd675544e41770fd22f4          India   \n",
      "49998  6.16.179  fffea183cd8cbd675544e41770fd22f4          India   \n",
      "49999  6.16.179  fffea183cd8cbd675544e41770fd22f4          India   \n",
      "\n",
      "      mobile_brand_name event_name operating_system traffic_source_medium  \\\n",
      "0                  Vivo  ad_status          ANDROID                   cpc   \n",
      "1               Samsung  ad_status          ANDROID                (none)   \n",
      "2               Samsung  ad_status          ANDROID                   cpc   \n",
      "3               Samsung  ad_status          ANDROID                   cpc   \n",
      "4               Samsung  ad_status          ANDROID                   cpc   \n",
      "...                 ...        ...              ...                   ...   \n",
      "49995           Samsung  ad_status          ANDROID                   NaN   \n",
      "49996           Samsung  ad_status          ANDROID                   NaN   \n",
      "49997            Huawei  ad_status          ANDROID               organic   \n",
      "49998            Huawei  ad_status          ANDROID               organic   \n",
      "49999            Huawei  ad_status          ANDROID               organic   \n",
      "\n",
      "       event_date install_date params_action_name params_status_result  \\\n",
      "0      04/05/2021   04/05/2021        _ads_reward                _fail   \n",
      "1      14/05/2021   05/05/2021         _force_ads                _fail   \n",
      "2      04/05/2021   03/05/2021        _ads_reward             _succeed   \n",
      "3      05/05/2021   03/05/2021         _force_ads             _succeed   \n",
      "4      06/05/2021   03/05/2021        _ads_reward             _succeed   \n",
      "...           ...          ...                ...                  ...   \n",
      "49995  11/05/2021   06/05/2021        _ads_reward                _fail   \n",
      "49996  11/05/2021   06/05/2021         _force_ads             _succeed   \n",
      "49997  15/05/2021   14/05/2021         _force_ads                _fail   \n",
      "49998  15/05/2021   14/05/2021         _force_ads             _succeed   \n",
      "49999  15/05/2021   14/05/2021         _force_ads                _fail   \n",
      "\n",
      "      params_status_Ad_position params_status_internet  \n",
      "0                        ad_gem                   _yes  \n",
      "1                      end_game                    _no  \n",
      "2                        ad_gem                   _yes  \n",
      "3                      end_game                   _yes  \n",
      "4                        ad_gem                   _yes  \n",
      "...                         ...                    ...  \n",
      "49995              item_endgame                   _yes  \n",
      "49996                  end_game                   _yes  \n",
      "49997                  end_game                   _yes  \n",
      "49998                  end_game                   _yes  \n",
      "49999                  end_game                   _yes  \n",
      "\n",
      "[50000 rows x 13 columns]\n"
     ]
    }
   ],
   "source": [
    "#Read the data about Ad_status\n",
    "ads = pd.read_csv (r'C:\\Users\\DUONG\\Desktop\\iKame\\[Câu 1][PBI]\\Ad_Status.csv')\n",
    "print (ads)"
   ]
  },
  {
   "cell_type": "markdown",
   "id": "85ef2d17",
   "metadata": {},
   "source": [
    "Đối với yêu cầu phân tích, ta sẽ quan sát một số biến có thể rút ra từ bộ số liệu"
   ]
  },
  {
   "cell_type": "code",
   "execution_count": 3,
   "id": "6e11b30c",
   "metadata": {},
   "outputs": [
    {
     "name": "stdout",
     "output_type": "stream",
     "text": [
      "                                  user_freq\n",
      "user_pseudo_id                             \n",
      "000012d925a9c63a175b9da827bfc044          1\n",
      "0002edb96b20adaf06d3d8b216d62041          5\n",
      "0003409a416d5edc9891d6a1a527c17a          1\n",
      "000367b2458bc89906c41c43488f0629          1\n",
      "00074cd713950d566385d0d5dff9f421          1\n",
      "...                                     ...\n",
      "fffbf1c146dce4c23b3b535aab4a3cc9          4\n",
      "fffc57a84c76fb59bdbede0adbe13189          3\n",
      "fffd4c2bfaa3c26df6065c9d61418450          1\n",
      "fffd97d4de9a5bda58ea77be7e3f7a67          2\n",
      "fffea183cd8cbd675544e41770fd22f4          3\n",
      "\n",
      "[31776 rows x 1 columns]\n"
     ]
    }
   ],
   "source": [
    "#Biến 1: tần suất xem quảng cáo của từng người dùng trong game\n",
    "freq = ads.loc[:, ['user_pseudo_id', 'event_name']].groupby('user_pseudo_id').count()\n",
    "freq = freq.rename(columns={'event_name': 'user_freq'})\n",
    "print(freq)"
   ]
  },
  {
   "cell_type": "code",
   "execution_count": 4,
   "id": "dd008ae2",
   "metadata": {},
   "outputs": [
    {
     "name": "stdout",
     "output_type": "stream",
     "text": [
      "Lượt xem thấp nhất của 1 người dùng: 1\n",
      "Lượt xem cao nhất của 1 người dùng: 41\n",
      "Lượt xem trung bình của 1 người dùng: 1.5735146022155087\n",
      "AxesSubplot(0.125,0.125;0.775x0.755)\n"
     ]
    },
    {
     "data": {
      "image/png": "[encoded data removed]",
      "text/plain": [
       "<Figure size 432x288 with 1 Axes>"
      ]
     },
     "metadata": {
      "needs_background": "light"
     },
     "output_type": "display_data"
    }
   ],
   "source": [
    "#Xem tỷ lệ phân phối của biến 1\n",
    "print('Lượt xem thấp nhất của 1 người dùng: ' + str(min(freq['user_freq'])))\n",
    "print('Lượt xem cao nhất của 1 người dùng: ' + str(max(freq['user_freq'])))\n",
    "print('Lượt xem trung bình của 1 người dùng: ' + str(freq['user_freq'].mean()))\n",
    "hist1 = sns.countplot(x='user_freq',data=freq)\n",
    "print(hist1)"
   ]
  },
  {
   "cell_type": "code",
   "execution_count": 5,
   "id": "2ba53efe",
   "metadata": {},
   "outputs": [
    {
     "name": "stdout",
     "output_type": "stream",
     "text": [
      "AxesSubplot(0.125,0.125;0.775x0.755)\n"
     ]
    },
    {
     "data": {
      "image/png": "[encoded data removed]",
      "text/plain": [
       "<Figure size 432x288 with 1 Axes>"
      ]
     },
     "metadata": {
      "needs_background": "light"
     },
     "output_type": "display_data"
    }
   ],
   "source": [
    "#Biến 2: Mức độ cập nhật của phiên bản game - xem phân phối của biến\n",
    "hist2 = sns.countplot(x='version',data=ads)\n",
    "print(hist2)"
   ]
  },
  {
   "cell_type": "markdown",
   "id": "47bfdbfd",
   "metadata": {},
   "source": [
    "Ta thấy biến này đang bị chia quá nhỏ dẫn đến chênh lệch đáng kể giữa các phân phối => phân loại lại biến"
   ]
  },
  {
   "cell_type": "code",
   "execution_count": 6,
   "id": "ef28a481",
   "metadata": {},
   "outputs": [
    {
     "name": "stdout",
     "output_type": "stream",
     "text": [
      "                                  ver_upd\n",
      "user_pseudo_id                           \n",
      "000012d925a9c63a175b9da827bfc044        6\n",
      "0002edb96b20adaf06d3d8b216d62041        6\n",
      "0003409a416d5edc9891d6a1a527c17a        6\n",
      "000367b2458bc89906c41c43488f0629        6\n",
      "00074cd713950d566385d0d5dff9f421        6\n",
      "...                                   ...\n",
      "fffbf1c146dce4c23b3b535aab4a3cc9        6\n",
      "fffc57a84c76fb59bdbede0adbe13189        6\n",
      "fffd4c2bfaa3c26df6065c9d61418450        6\n",
      "fffd97d4de9a5bda58ea77be7e3f7a67        6\n",
      "fffea183cd8cbd675544e41770fd22f4        6\n",
      "\n",
      "[31776 rows x 1 columns]\n"
     ]
    }
   ],
   "source": [
    "#Chia mức độ cập nhật của phiên bản theo thang đo từ 1-6\n",
    "conditions = [\n",
    "    (ads['version'].str.startswith('1') == True),\n",
    "    (ads['version'].str.startswith('2') == True),\n",
    "    (ads['version'].str.startswith('3') == True),\n",
    "    (ads['version'].str.startswith('4') == True),\n",
    "    (ads['version'].str.startswith('5') == True),\n",
    "    (ads['version'].str.startswith('6') == True)\n",
    "    ]\n",
    "values = [1, 2, 3, 4, 5, 6]\n",
    "ads['ver_upd'] = np.select(conditions, values)\n",
    "upd = ads.loc[:, ['user_pseudo_id', 'ver_upd']].groupby('user_pseudo_id').first()\n",
    "print(upd)"
   ]
  },
  {
   "cell_type": "code",
   "execution_count": 7,
   "id": "ec57f0b0",
   "metadata": {},
   "outputs": [
    {
     "name": "stdout",
     "output_type": "stream",
     "text": [
      "Số người dùng xem quảng cáo trong phiên bản cũ nhất (phiên bản 1): 3\n",
      "Số người dùng xem quảng cáo trong phiên bản mới nhất (phiên bản 6): 31476\n",
      "AxesSubplot(0.125,0.125;0.775x0.755)\n"
     ]
    },
    {
     "data": {
      "image/png": "[encoded data removed]",
      "text/plain": [
       "<Figure size 432x288 with 1 Axes>"
      ]
     },
     "metadata": {
      "needs_background": "light"
     },
     "output_type": "display_data"
    }
   ],
   "source": [
    "#Xem tỷ lệ phân phối của biến 2\n",
    "print('Số người dùng xem quảng cáo trong phiên bản cũ nhất (phiên bản 1): ' + str(upd[upd.ver_upd == 1]['ver_upd'].count()))\n",
    "print('Số người dùng xem quảng cáo trong phiên bản mới nhất (phiên bản 6): ' + str(upd[upd.ver_upd == 6]['ver_upd'].count()))\n",
    "hist02 = sns.countplot(x='ver_upd',data=upd)\n",
    "print(hist02)"
   ]
  },
  {
   "cell_type": "code",
   "execution_count": 8,
   "id": "44e4a3bd",
   "metadata": {},
   "outputs": [
    {
     "name": "stdout",
     "output_type": "stream",
     "text": [
      "                                  ver_upd  user_freq\n",
      "user_pseudo_id                                      \n",
      "000012d925a9c63a175b9da827bfc044        6          1\n",
      "0002edb96b20adaf06d3d8b216d62041        6          5\n",
      "0003409a416d5edc9891d6a1a527c17a        6          1\n",
      "000367b2458bc89906c41c43488f0629        6          1\n",
      "00074cd713950d566385d0d5dff9f421        6          1\n",
      "...                                   ...        ...\n",
      "fffbf1c146dce4c23b3b535aab4a3cc9        6          4\n",
      "fffc57a84c76fb59bdbede0adbe13189        6          3\n",
      "fffd4c2bfaa3c26df6065c9d61418450        6          1\n",
      "fffd97d4de9a5bda58ea77be7e3f7a67        6          2\n",
      "fffea183cd8cbd675544e41770fd22f4        6          3\n",
      "\n",
      "[31776 rows x 2 columns]\n",
      "AxesSubplot(0.125,0.125;0.775x0.755)\n"
     ]
    },
    {
     "data": {
      "image/png": "[encoded data removed]",
      "text/plain": [
       "<Figure size 432x288 with 1 Axes>"
      ]
     },
     "metadata": {
      "needs_background": "light"
     },
     "output_type": "display_data"
    }
   ],
   "source": [
    "#Theo dõi tương quan giữa biến 1 và biến 2\n",
    "merged1 = pd.merge(left=upd, right=freq, left_on='user_pseudo_id', right_on='user_pseudo_id')\n",
    "chart1 = merged1.plot.scatter(x ='ver_upd', y ='user_freq', c ='#FFA500')\n",
    "print(merged1)\n",
    "print(chart1)"
   ]
  },
  {
   "cell_type": "code",
   "execution_count": 9,
   "id": "70bb208d",
   "metadata": {},
   "outputs": [],
   "source": [
    "#Biến 3: Quy mô của thị trường trong ngành"
   ]
  },
  {
   "cell_type": "markdown",
   "id": "ff775024",
   "metadata": {},
   "source": [
    "--Dữ kiện được lấy tại link: https://rlist.io/dataset/budapesto/17736409/newzoo-game-"
   ]
  },
  {
   "cell_type": "markdown",
   "id": "0f547a48",
   "metadata": {},
   "source": [
    "Biến này sẽ được đánh giá bằng thang đo từ 1 đến 6, dựa trên xếp hạng quy mô thị trường game theo quốc gia, với các quốc gia có doanh thu trên 10 tỷ đô được đánh giá 6 điểm, các quốc gia có doanh thu trên 1 tỷ đô được đánh giá 5 điểm, các quốc gia có doanh thu trên 400 triệu đô được đánh giá 4 điểm, các quốc gia có doanh thu trên 100 triệu đô được đánh giá 3 điểm, các quốc gia còn lại trong top 100 được đánh giá 2 điểm và các quốc gia ngoài top 100 được đánh giá 1 điểm"
   ]
  },
  {
   "cell_type": "code",
   "execution_count": 10,
   "id": "59487722",
   "metadata": {},
   "outputs": [
    {
     "name": "stdout",
     "output_type": "stream",
     "text": [
      "            country  market_size\n",
      "0       Afghanistan            1\n",
      "1           Albania            2\n",
      "2           Algeria            3\n",
      "3    American Samoa            1\n",
      "4            Angola            2\n",
      "..              ...          ...\n",
      "193         Vietnam            4\n",
      "194  Western Sahara            1\n",
      "195           Yemen            1\n",
      "196          Zambia            1\n",
      "197        Zimbabwe            1\n",
      "\n",
      "[198 rows x 2 columns]\n"
     ]
    }
   ],
   "source": [
    "#Read the data about marker ranking\n",
    "rank = pd.read_excel (r'Desktop\\ranking.xlsx')\n",
    "print(rank)"
   ]
  },
  {
   "cell_type": "code",
   "execution_count": 11,
   "id": "3393d342",
   "metadata": {},
   "outputs": [
    {
     "name": "stdout",
     "output_type": "stream",
     "text": [
      "AxesSubplot(0.125,0.125;0.775x0.755)\n"
     ]
    },
    {
     "data": {
      "image/png": "[encoded data removed]",
      "text/plain": [
       "<Figure size 432x288 with 1 Axes>"
      ]
     },
     "metadata": {
      "needs_background": "light"
     },
     "output_type": "display_data"
    }
   ],
   "source": [
    "#Xem phân phối của biến 3\n",
    "hist3 = sns.countplot(x='market_size',data=rank)\n",
    "print(hist3)"
   ]
  },
  {
   "cell_type": "code",
   "execution_count": 12,
   "id": "5dfb9641",
   "metadata": {},
   "outputs": [
    {
     "name": "stdout",
     "output_type": "stream",
     "text": [
      "                                  user_freq        country  market_size\n",
      "user_pseudo_id                                                         \n",
      "000012d925a9c63a175b9da827bfc044          1          India            5\n",
      "0002edb96b20adaf06d3d8b216d62041          5         Brazil            5\n",
      "0003409a416d5edc9891d6a1a527c17a          1        Vietnam            4\n",
      "000367b2458bc89906c41c43488f0629          1       Colombia            3\n",
      "00074cd713950d566385d0d5dff9f421          1      Indonesia            5\n",
      "...                                     ...            ...          ...\n",
      "fffbf1c146dce4c23b3b535aab4a3cc9          4          Egypt            3\n",
      "fffc57a84c76fb59bdbede0adbe13189          3          India            5\n",
      "fffd4c2bfaa3c26df6065c9d61418450          1      Indonesia            5\n",
      "fffd97d4de9a5bda58ea77be7e3f7a67          2  United States            6\n",
      "fffea183cd8cbd675544e41770fd22f4          3          India            5\n",
      "\n",
      "[31638 rows x 3 columns]\n",
      "AxesSubplot(0.125,0.125;0.775x0.755)\n"
     ]
    },
    {
     "data": {
      "image/png": "[encoded data removed]",
      "text/plain": [
       "<Figure size 432x288 with 1 Axes>"
      ]
     },
     "metadata": {
      "needs_background": "light"
     },
     "output_type": "display_data"
    }
   ],
   "source": [
    "#Theo dõi tương quan giữa biến 1 và biến 3\n",
    "merged2 = pd.merge(left=ads, right=rank, left_on='country', right_on='country')\n",
    "ctr = merged2.loc[:, ['user_pseudo_id', 'country', 'market_size']].groupby('user_pseudo_id').first()\n",
    "ads_per_ctr = pd.merge(left=freq, right=ctr, left_on='user_pseudo_id', right_on='user_pseudo_id')\n",
    "chart2 = ads_per_ctr.plot.scatter(x ='market_size', y ='user_freq', c ='#FFA500')\n",
    "print(ads_per_ctr)\n",
    "print(chart2)"
   ]
  },
  {
   "cell_type": "code",
   "execution_count": 13,
   "id": "43a9cfbb",
   "metadata": {},
   "outputs": [
    {
     "name": "stdout",
     "output_type": "stream",
     "text": [
      "                                  ver_upd  market_size  user_freq\n",
      "user_pseudo_id                                                   \n",
      "000012d925a9c63a175b9da827bfc044        6            5          1\n",
      "0002edb96b20adaf06d3d8b216d62041        6            5          5\n",
      "0003409a416d5edc9891d6a1a527c17a        6            4          1\n",
      "000367b2458bc89906c41c43488f0629        6            3          1\n",
      "00074cd713950d566385d0d5dff9f421        6            5          1\n",
      "...                                   ...          ...        ...\n",
      "fffbf1c146dce4c23b3b535aab4a3cc9        6            3          4\n",
      "fffc57a84c76fb59bdbede0adbe13189        6            5          3\n",
      "fffd4c2bfaa3c26df6065c9d61418450        6            5          1\n",
      "fffd97d4de9a5bda58ea77be7e3f7a67        6            6          2\n",
      "fffea183cd8cbd675544e41770fd22f4        6            5          3\n",
      "\n",
      "[31638 rows x 3 columns]\n"
     ]
    }
   ],
   "source": [
    "#Tổng hợp kết quả của các biến 1, biến 2 và biến 3\n",
    "merged3 = pd.merge(left=merged1, right=ctr, left_on='user_pseudo_id', right_on='user_pseudo_id')\n",
    "mod = merged3.loc[:, ['ver_upd', 'market_size','user_freq']].groupby('user_pseudo_id').first()\n",
    "print(mod)"
   ]
  },
  {
   "cell_type": "code",
   "execution_count": 14,
   "id": "89fdf723",
   "metadata": {
    "scrolled": false
   },
   "outputs": [
    {
     "name": "stdout",
     "output_type": "stream",
     "text": [
      "    event_date  total_ads\n",
      "0   01/05/2021       1000\n",
      "1   02/05/2021       1786\n",
      "2   03/05/2021       2435\n",
      "3   04/05/2021       2519\n",
      "4   05/05/2021       2649\n",
      "5   06/05/2021       2868\n",
      "6   07/05/2021       3262\n",
      "7   08/05/2021       3798\n",
      "8   09/05/2021       3920\n",
      "9   10/05/2021       4171\n",
      "10  11/05/2021       4371\n",
      "11  12/05/2021       4281\n",
      "12  13/05/2021       4207\n",
      "13  14/05/2021       4490\n",
      "14  15/05/2021       4243\n",
      "AxesSubplot(0.125,0.125;0.775x0.755)\n"
     ]
    },
    {
     "data": {
      "image/png": "[encoded data removed]",
      "text/plain": [
       "<Figure size 432x288 with 1 Axes>"
      ]
     },
     "metadata": {
      "needs_background": "light"
     },
     "output_type": "display_data"
    }
   ],
   "source": [
    "#Biến 4: Tổng lượt xem quảng cáo theo ngày\n",
    "daily = ads.loc[:, ['event_date', 'event_name']].groupby('event_date', as_index=False).count()\n",
    "daily = daily.rename(columns={'event_name': 'total_ads'})\n",
    "chart3 = daily.plot.line()\n",
    "print(daily)\n",
    "print(chart3)"
   ]
  },
  {
   "cell_type": "code",
   "execution_count": 15,
   "id": "afd879f6",
   "metadata": {},
   "outputs": [],
   "source": [
    "from statsmodels.tsa.arima_model import ARIMA\n",
    "from statsmodels.graphics.tsaplots import plot_acf, plot_pacf\n",
    "from statsmodels.tsa.stattools import adfuller\n",
    "from numpy import log"
   ]
  },
  {
   "cell_type": "code",
   "execution_count": 16,
   "id": "d08eec9d",
   "metadata": {},
   "outputs": [
    {
     "name": "stdout",
     "output_type": "stream",
     "text": [
      "ADF Statistic: -3.845620\n",
      "p-value: 0.002474\n",
      "Inference: The time series is stationary\n"
     ]
    }
   ],
   "source": [
    "daily.set_index('event_date',inplace=True)\n",
    "result=adfuller(daily.dropna())\n",
    "print('ADF Statistic: %f' % result[0])\n",
    "print('p-value: %f' % result[1])\n",
    "print(f'Inference: The time series is {\"non-\" if result[1] >= 0.05 else \"\"}stationary')"
   ]
  },
  {
   "cell_type": "code",
   "execution_count": 17,
   "id": "ff1742cc",
   "metadata": {},
   "outputs": [
    {
     "data": {
      "image/png": "[encoded data removed]",
      "text/plain": [
       "<Figure size 432x288 with 1 Axes>"
      ]
     },
     "metadata": {
      "needs_background": "light"
     },
     "output_type": "display_data"
    },
    {
     "data": {
      "image/png": "[encoded data removed]",
      "text/plain": [
       "<Figure size 432x288 with 1 Axes>"
      ]
     },
     "metadata": {
      "needs_background": "light"
     },
     "output_type": "display_data"
    }
   ],
   "source": [
    "sm.graphics.tsa.plot_acf(daily['total_ads'].squeeze(), lags =6)\n",
    "sm.graphics.tsa.plot_pacf(daily['total_ads'].squeeze(), lags =6)\n",
    "plt.show()"
   ]
  },
  {
   "cell_type": "code",
   "execution_count": 18,
   "id": "ffe0d65b",
   "metadata": {},
   "outputs": [
    {
     "name": "stdout",
     "output_type": "stream",
     "text": [
      "==============================================================================\n",
      "                 coef    std err          z      P>|z|      [0.025      0.975]\n",
      "------------------------------------------------------------------------------\n",
      "ar.L1         -0.7565      0.015    -52.135      0.000      -0.785      -0.728\n",
      "ma.L1          0.0471      0.001     93.898      0.000       0.046       0.048\n",
      "ar.S.L12       2.0234      0.063     32.209      0.000       1.900       2.146\n",
      "ma.S.L12       0.1035      0.001    130.649      0.000       0.102       0.105\n",
      "sigma2      6003.2204   3.22e-07   1.87e+10      0.000    6003.220    6003.220\n",
      "==============================================================================\n"
     ]
    }
   ],
   "source": [
    "warnings.filterwarnings(\"ignore\")\n",
    "mod = sm.tsa.statespace.SARIMAX(daily,\n",
    "                                order=(1, 0, 1),\n",
    "                                seasonal_order=(1, 0, 1, 12),\n",
    "                                enforce_stationarity=False,\n",
    "                                enforce_invertibility=False)\n",
    "\n",
    "results = mod.fit()\n",
    "\n",
    "print(results.summary().tables[1])"
   ]
  },
  {
   "cell_type": "code",
   "execution_count": 19,
   "id": "e005c4f4",
   "metadata": {},
   "outputs": [],
   "source": [
    "pred = results.get_prediction(start=14, end=21, dynamic=False)\n",
    "pred_ci = pred.conf_int()"
   ]
  },
  {
   "cell_type": "code",
   "execution_count": 20,
   "id": "941191c9",
   "metadata": {},
   "outputs": [
    {
     "data": {
      "image/png": "[encoded data removed]",
      "text/plain": [
       "<Figure size 432x288 with 1 Axes>"
      ]
     },
     "metadata": {
      "needs_background": "light"
     },
     "output_type": "display_data"
    }
   ],
   "source": [
    "ax = daily['total_ads'].plot(label='observed')\n",
    "pred.predicted_mean.plot(ax=ax, label='statistic forecast', alpha=.7)\n",
    "\n",
    "ax.fill_between(pred_ci.index,\n",
    "                pred_ci.iloc[:, 0],\n",
    "                pred_ci.iloc[:, 1], color='k', alpha=.2)\n",
    "\n",
    "ax.set_xlabel('Date')\n",
    "ax.set_ylabel('Total ads')\n",
    "plt.legend()\n",
    "\n",
    "plt.show()"
   ]
  },
  {
   "cell_type": "code",
   "execution_count": 21,
   "id": "c5a4592a",
   "metadata": {},
   "outputs": [
    {
     "name": "stdout",
     "output_type": "stream",
     "text": [
      "14    4267.269748\n",
      "15    5616.091927\n",
      "16    4970.212088\n",
      "17    6101.176105\n",
      "18    6378.389246\n",
      "19    7856.861114\n",
      "20    7806.043451\n",
      "21    8539.346518\n",
      "Name: predicted_mean, dtype: float64\n"
     ]
    }
   ],
   "source": [
    "daily_forecasted = pred.predicted_mean\n",
    "print(daily_forecasted)"
   ]
  },
  {
   "cell_type": "code",
   "execution_count": null,
   "id": "cdc0e66d",
   "metadata": {},
   "outputs": [],
   "source": []
  }
 ],
 "metadata": {
  "kernelspec": {
   "display_name": "Python 3",
   "language": "python",
   "name": "python3"
  },
  "language_info": {
   "codemirror_mode": {
    "name": "ipython",
    "version": 3
   },
   "file_extension": ".py",
   "mimetype": "text/x-python",
   "name": "python",
   "nbconvert_exporter": "python",
   "pygments_lexer": "ipython3",
   "version": "3.8.8"
  }
 },
 "nbformat": 4,
 "nbformat_minor": 5
}
